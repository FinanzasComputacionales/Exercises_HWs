{
  "nbformat": 4,
  "nbformat_minor": 0,
  "metadata": {
    "colab": {
      "provenance": []
    },
    "kernelspec": {
      "name": "python3",
      "display_name": "Python 3"
    },
    "language_info": {
      "name": "python"
    }
  },
  "cells": [
    {
      "cell_type": "markdown",
      "source": [
        "# **Tarea #1: Finanzas Computacionales**\n",
        "\n",
        "#### ***Hecho por Elizabeth Granda, 100900741***\n",
        "\n",
        "![](https://i.imgur.com/fyQtrss.png)\n",
        "\n",
        "![](https://i.imgur.com/nGoDn2n.jpeg)\n",
        "\n",
        "![](https://i.imgur.com/1apuN7S.png)\n",
        "\n",
        "![](https://i.imgur.com/KwsoPA4.jpeg)\n",
        "\n",
        "![](https://i.imgur.com/jeza254.jpeg)\n",
        "\n",
        "![](https://i.imgur.com/XLVyXwK.png)\n",
        "\n",
        "![](https://i.imgur.com/Wl7Ii4B.jpeg)\n",
        "\n",
        "![](https://i.imgur.com/1zm32YT.png)\n",
        "\n",
        "![](https://i.imgur.com/0pZPPDp.jpeg)\n",
        "\n",
        "![](https://i.imgur.com/8hHGrd8.jpeg)\n",
        "\n",
        "![](https://i.imgur.com/m3d58nm.jpeg)\n",
        "\n",
        "\n",
        "\n",
        "\n"
      ],
      "metadata": {
        "id": "gTKrBYK3hfhf"
      }
    },
    {
      "cell_type": "code",
      "execution_count": null,
      "metadata": {
        "id": "dravVP7_heeI"
      },
      "outputs": [],
      "source": []
    }
  ]
}